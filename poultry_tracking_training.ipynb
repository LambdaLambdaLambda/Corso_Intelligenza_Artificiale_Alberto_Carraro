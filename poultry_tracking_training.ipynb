{
 "cells": [
  {
   "cell_type": "code",
   "execution_count": 1,
   "metadata": {
    "id": "Jj4QnRaI5V0f"
   },
   "outputs": [],
   "source": [
    "import pandas as pd\n",
    "import os\n",
    "from enum import Enum\n",
    "import json\n",
    "from tqdm import tqdm\n",
    "import math\n",
    "from pathlib import Path\n",
    "import random\n",
    "import shutil\n",
    "import cv2\n",
    "import numpy as np\n",
    "import matplotlib.pyplot as plt"
   ]
  },
  {
   "cell_type": "code",
   "execution_count": null,
   "metadata": {
    "colab": {
     "base_uri": "https://localhost:8080/"
    },
    "id": "uc04GntX6oC9",
    "outputId": "e58927e9-84b3-4fe2-c9e1-8500c2a8e865"
   },
   "outputs": [],
   "source": [
    "base_folder = os.path.join('.')"
   ]
  },
  {
   "cell_type": "markdown",
   "metadata": {
    "id": "SOBd3PtqDSf-"
   },
   "source": [
    "**SET PATH VARIABLES FOR TRAIN, TEST, AND VALIDATION FODLERS**"
   ]
  },
  {
   "cell_type": "code",
   "execution_count": 3,
   "metadata": {
    "id": "ditxJTOTDRKT"
   },
   "outputs": [],
   "source": [
    "data_yaml_path = os.path.join(base_folder, 'data.yaml')\n",
    "unsplitted_images_folder = os.path.join(base_folder, 'data_for_YOLO_training', 'unsplitted', 'images')\n",
    "unsplitted_labels_folder = os.path.join(base_folder, 'data_for_YOLO_training', 'unsplitted', 'labels')\n",
    "# Define paths to the output folders\n",
    "output_folders = {\n",
    "    'test': {\n",
    "        'images': os.path.join(base_folder, 'data_for_YOLO_training', 'splitted', 'test', 'images'),\n",
    "        'labels': os.path.join(base_folder, 'data_for_YOLO_training', 'splitted', 'test', 'labels')\n",
    "    },\n",
    "    'train': {\n",
    "        'images': os.path.join(base_folder, 'data_for_YOLO_training', 'splitted', 'train', 'images'),\n",
    "        'labels': os.path.join(base_folder, 'data_for_YOLO_training', 'splitted', 'train', 'labels')\n",
    "    },\n",
    "    'val': {\n",
    "        'images': os.path.join(base_folder, 'data_for_YOLO_training', 'splitted', 'val', 'images'),\n",
    "        'labels': os.path.join(base_folder, 'data_for_YOLO_training', 'splitted', 'val', 'labels')\n",
    "    }\n",
    "}"
   ]
  },
  {
   "cell_type": "markdown",
   "metadata": {
    "id": "6CanrH0Ojubp"
   },
   "source": [
    "**CHECK TRAIN, TEST, AND VALIDATION FOLDERS**"
   ]
  },
  {
   "cell_type": "code",
   "execution_count": null,
   "metadata": {
    "colab": {
     "base_uri": "https://localhost:8080/"
    },
    "id": "XgOljL_FjOzV",
    "outputId": "6ae2b9bb-3d34-45c9-a482-4a51c914a1b6"
   },
   "outputs": [],
   "source": [
    "total_images = 0\n",
    "total_labels = 0\n",
    "for split in ['train', 'val', 'test']:\n",
    "    image_stem_list = sorted([Path(n).stem for n in os.listdir(output_folders[split]['images']) if n.endswith('.jpg') and not n.startswith('.')])\n",
    "    label_stem_list = sorted([Path(n).stem for n in os.listdir(output_folders[split]['labels']) if n.endswith('.txt') and not n.startswith('.')])\n",
    "    n_images = len(image_stem_list)\n",
    "    n_labels = len(label_stem_list)\n",
    "    total_labels += n_labels\n",
    "    total_images += n_images\n",
    "    print(f\"The folder {split}/images has {n_images} elements.\")\n",
    "    print(f\"The folder {split}/labels has {n_labels} elements.\")\n",
    "    for image_stem in image_stem_list:\n",
    "        if image_stem not in label_stem_list:\n",
    "            print(f\"Image {image_stem}.jpg is not labelled.\")\n",
    "    for label_stem in label_stem_list:\n",
    "        if label_stem not in image_stem_list:\n",
    "            print(f\"Image {label_stem}.txt has no image.\")\n",
    "\n",
    "print(f\"Total images: {total_images}\")\n",
    "print(f\"Total labels: {total_labels}\")"
   ]
  },
  {
   "cell_type": "code",
   "execution_count": 6,
   "metadata": {
    "id": "cs3Zf8cb5m32"
   },
   "outputs": [],
   "source": [
    "class Labels(Enum):\n",
    "    gallina_bianca = 0\n",
    "    gallina_rossa = 1\n",
    "\n",
    "n_classes = 2\n",
    "classes = ['gallina_bianca', 'gallina_rossa']"
   ]
  },
  {
   "cell_type": "code",
   "execution_count": null,
   "metadata": {
    "colab": {
     "base_uri": "https://localhost:8080/"
    },
    "id": "NJQOz3cq6jYm",
    "outputId": "75941684-5db8-4737-c187-e262f321aa72"
   },
   "outputs": [],
   "source": [
    "!pip install ultralytics"
   ]
  },
  {
   "cell_type": "code",
   "execution_count": null,
   "metadata": {
    "colab": {
     "base_uri": "https://localhost:8080/"
    },
    "id": "kz6gdBqcCBRq",
    "outputId": "35c48fcd-6925-4296-aa85-62e032b32f31"
   },
   "outputs": [],
   "source": [
    "!pip install -U albumentations"
   ]
  },
  {
   "cell_type": "code",
   "execution_count": null,
   "metadata": {
    "colab": {
     "base_uri": "https://localhost:8080/"
    },
    "id": "8Q51sSGY6iuU",
    "outputId": "d5ea08e0-6146-47d1-af63-40964edf55c6"
   },
   "outputs": [],
   "source": [
    "import torch\n",
    "from ultralytics import YOLO"
   ]
  },
  {
   "cell_type": "code",
   "execution_count": 10,
   "metadata": {
    "id": "ozPLQ35-_pFl"
   },
   "outputs": [],
   "source": [
    "model = YOLO(os.path.join(base_folder, 'yolo11n.pt'))"
   ]
  },
  {
   "cell_type": "code",
   "execution_count": null,
   "metadata": {
    "colab": {
     "base_uri": "https://localhost:8080/"
    },
    "id": "X9QI34FZF5sI",
    "outputId": "1a961ba2-0a06-44af-c46b-e5f0c4b2dde5"
   },
   "outputs": [],
   "source": [
    "model.train(data=data_yaml_path, epochs=30)"
   ]
  },
  {
   "cell_type": "code",
   "execution_count": null,
   "metadata": {
    "colab": {
     "base_uri": "https://localhost:8080/"
    },
    "id": "SEIWGXC3USpq",
    "outputId": "cecb256f-36a0-4ac0-e643-b9de55145e0d"
   },
   "outputs": [],
   "source": [
    "best_obj_detection_weights = os.path.join(base_folder, 'runs', 'detect', 'train', 'weights', 'best.pt')\n",
    "model = YOLO(best_obj_detection_weights)\n",
    "results = model.val()"
   ]
  }
 ],
 "metadata": {
  "accelerator": "GPU",
  "colab": {
   "gpuType": "T4",
   "provenance": []
  },
  "kernelspec": {
   "display_name": "Python 3",
   "name": "python3"
  },
  "language_info": {
   "name": "python"
  }
 },
 "nbformat": 4,
 "nbformat_minor": 0
}
