{
 "cells": [
  {
   "cell_type": "code",
   "execution_count": null,
   "metadata": {
    "colab": {
     "base_uri": "https://localhost:8080/"
    },
    "id": "93fjNrTZRN0H",
    "outputId": "af42bf40-d2f6-4379-c6ab-b9f869d8c76b"
   },
   "outputs": [],
   "source": [
    "!pip install supervision"
   ]
  },
  {
   "cell_type": "code",
   "execution_count": null,
   "metadata": {
    "colab": {
     "base_uri": "https://localhost:8080/"
    },
    "id": "_oIP51myRN0I",
    "outputId": "699cf7cc-2947-43e8-d33d-6593ed4538d8"
   },
   "outputs": [],
   "source": [
    "!pip install ultralytics"
   ]
  },
  {
   "cell_type": "markdown",
   "metadata": {
    "id": "dMdlLEd5RN0J"
   },
   "source": [
    "**IMPORTS**"
   ]
  },
  {
   "cell_type": "code",
   "execution_count": null,
   "metadata": {
    "id": "K_ULq6OpRN0J"
   },
   "outputs": [],
   "source": [
    "from pathlib import Path\n",
    "import numpy as np\n",
    "import math\n",
    "import os\n",
    "import pandas as pd\n",
    "import json\n",
    "from enum import Enum\n",
    "import time\n",
    "from typing import List, Generator, Dict, Any, Tuple, Union, Set\n",
    "from types import SimpleNamespace\n",
    "from dataclasses import dataclass\n",
    "import cv2\n",
    "from tqdm import tqdm\n",
    "import matplotlib.pyplot as plt\n",
    "import torch\n",
    "import sys\n",
    "import itertools\n",
    "\n",
    "from IPython.display import display, Image"
   ]
  },
  {
   "cell_type": "code",
   "execution_count": null,
   "metadata": {
    "colab": {
     "base_uri": "https://localhost:8080/"
    },
    "id": "8RuQsiEHRN0J",
    "outputId": "f3e416c2-5372-4be1-d60d-f57736bdf776"
   },
   "outputs": [],
   "source": [
    "import supervision as sv\n",
    "import torch\n",
    "from ultralytics import YOLO\n",
    "from ultralytics.engine.results import Results\n",
    "from supervision.detection.core import Detections\n",
    "from supervision.tracker.byte_tracker.core import ByteTrack"
   ]
  },
  {
   "cell_type": "code",
   "execution_count": 7,
   "metadata": {
    "id": "Jv_snt2rRN0J"
   },
   "outputs": [],
   "source": [
    "class Labels(Enum):\n",
    "    gallina_bianca = 0\n",
    "    gallina_rossa = 1"
   ]
  },
  {
   "cell_type": "markdown",
   "metadata": {},
   "source": [
    "**SCARICA IL VIDEO SU CUI FARE INFERENZA**"
   ]
  },
  {
   "cell_type": "code",
   "execution_count": null,
   "metadata": {},
   "outputs": [],
   "source": [
    "# Define the file name and URL\n",
    "file_name = \"ExternDisk0_ch4_20240207130000_20240207140000.mp4\"\n",
    "url = \"https://www.dropbox.com/scl/fi/rwz8irhljs0dm08yy2zku/ExternDisk0_ch4_20240207130000_20240207140000.mp4?rlkey=fi02g6j9hlet481hw9kk4inru&st=08kvj8ln&dl=0\"\n",
    "\n",
    "# Download the file using wget\n",
    "os.system(f\"wget -O {file_name} '{url}'\")\n",
    "\n",
    "print(f\"File '{file_name}' scaricato nella directory corrente.\")"
   ]
  },
  {
   "cell_type": "markdown",
   "metadata": {},
   "source": [
    "**SCARICA I PESI DEL MODELLO ALLENATO**"
   ]
  },
  {
   "cell_type": "code",
   "execution_count": null,
   "metadata": {},
   "outputs": [],
   "source": [
    "# Define the file name and URL\n",
    "file_name = \"best.pt\"\n",
    "url = \"https://www.dropbox.com/scl/fi/7hfuqyyvske71q974rvao/best.pt?rlkey=f03gb3glzajamm3zaaagfjrdr&st=pdgawexs&dl=0\"\n",
    "# Download the file using wget\n",
    "os.system(f\"wget -O {file_name} '{url}'\")\n",
    "print(f\"File '{file_name}' scaricato nella directory corrente.\")"
   ]
  },
  {
   "cell_type": "code",
   "execution_count": null,
   "metadata": {
    "id": "-PWql7PSRN0L"
   },
   "outputs": [],
   "source": [
    "base_folder = os.path.join('.')\n",
    "best_weights = os.path.join(base_folder, 'best.pt')"
   ]
  },
  {
   "cell_type": "code",
   "execution_count": null,
   "metadata": {
    "colab": {
     "base_uri": "https://localhost:8080/"
    },
    "id": "WwsR7sDA2f_r",
    "outputId": "5e73e9f8-533b-4e6f-8abd-6a047728bb42"
   },
   "outputs": [],
   "source": [
    "input_video_path = os.path.join(base_folder, \"ExternDisk0_ch4_20240207130000_20240207140000.mp4\")\n",
    "\n",
    "device = torch.device(\"cpu\")\n",
    "if torch.cuda.is_available():\n",
    "    device = torch.device(\"cuda\")\n",
    "    torch.cuda.empty_cache()\n",
    "\n",
    "model = YOLO(best_weights)\n",
    "model.to(device)"
   ]
  },
  {
   "cell_type": "markdown",
   "metadata": {},
   "source": [
    "**SCARICA UNA IMMAGINE DA ANALIZZARE**"
   ]
  },
  {
   "cell_type": "code",
   "execution_count": null,
   "metadata": {},
   "outputs": [],
   "source": [
    "# Define the file name and URL\n",
    "file_name = \"ExternDisk0_ch10_frame_53984.jpg\"\n",
    "url = \"https://www.dropbox.com/scl/fi/temk6txf5x0bvi9np3h5w/ExternDisk0_ch10_frame_53984.jpg?rlkey=26zcblhlf5zugm67wl4p2nqcg&st=rr52klss&dl=0\"\n",
    "\n",
    "# Download the file using wget\n",
    "os.system(f\"wget -O {file_name} '{url}'\")\n",
    "\n",
    "print(f\"File '{file_name}' scaricato nella directory corrente.\")"
   ]
  },
  {
   "cell_type": "markdown",
   "metadata": {},
   "source": [
    "**OBJECT DETECTION SU IMMAGINE**"
   ]
  },
  {
   "cell_type": "code",
   "execution_count": null,
   "metadata": {},
   "outputs": [],
   "source": [
    "image_path = os.path.join(base_folder, 'ExternDisk0_ch10_frame_53984.jpg')\n",
    "image = cv2.imread(image_path)\n",
    "results = model(image)[0]\n",
    "detections = sv.Detections.from_ultralytics(results)\n",
    "\n",
    "bounding_box_annotator = sv.BoundingBoxAnnotator()\n",
    "label_annotator = sv.LabelAnnotator()\n",
    "\n",
    "labels = [\n",
    "    model.model.names[class_id]\n",
    "    for class_id\n",
    "    in detections.class_id\n",
    "]\n",
    "\n",
    "annotated_image = bounding_box_annotator.annotate(\n",
    "    scene=image, detections=detections)\n",
    "annotated_image = label_annotator.annotate(\n",
    "    scene=annotated_image, detections=detections, labels=labels)\n",
    "\n",
    "sv.plot_image(annotated_image)"
   ]
  },
  {
   "cell_type": "markdown",
   "metadata": {},
   "source": [
    "**OBJECT DETECTION SU VIDEO STREAM**"
   ]
  },
  {
   "cell_type": "code",
   "execution_count": null,
   "metadata": {},
   "outputs": [],
   "source": [
    "box_annotator = sv.BoundingBoxAnnotator()\n",
    "\n",
    "def callback(frame: np.ndarray, _: int) -> np.ndarray:\n",
    "    results = model(frame)[0]\n",
    "    detections = sv.Detections.from_ultralytics(results)\n",
    "    return box_annotator.annotate(frame.copy(), detections=detections)\n",
    "\n",
    "output_video_path = os.path.join(\n",
    "    base_folder, \"ExternDisk0_ch4_20240207130000_20240207140000_annotated_1.mp4\")\n",
    "\n",
    "sv.process_video(\n",
    "    source_path=input_video_path,\n",
    "    target_path=output_video_path,\n",
    "    callback=callback\n",
    ")\n",
    "del box_annotator"
   ]
  },
  {
   "cell_type": "markdown",
   "metadata": {},
   "source": [
    "**OBJECT TRACKING SU VIDEO STREAM**"
   ]
  },
  {
   "cell_type": "code",
   "execution_count": null,
   "metadata": {},
   "outputs": [],
   "source": [
    "tracker = sv.ByteTrack()\n",
    "box_annotator = sv.BoundingBoxAnnotator()\n",
    "\n",
    "def callback(frame: np.ndarray, _: int) -> np.ndarray:\n",
    "    results = model(frame)[0]\n",
    "    detections = sv.Detections.from_ultralytics(results)\n",
    "    detections = tracker.update_with_detections(detections)\n",
    "    return box_annotator.annotate(frame.copy(), detections=detections)\n",
    "\n",
    "\n",
    "output_video_path = os.path.join(\n",
    "    base_folder, \"ExternDisk0_ch4_20240207130000_20240207140000_annotated_2.mp4\")\n",
    "\n",
    "sv.process_video(\n",
    "    source_path=input_video_path,\n",
    "    target_path=output_video_path,\n",
    "    callback=callback\n",
    ")\n",
    "\n",
    "del tracker\n",
    "del box_annotator"
   ]
  },
  {
   "cell_type": "markdown",
   "metadata": {},
   "source": [
    "**OBJECT TRACKING SU VIDEO STREAM CON LABEL SUI BOUNDING BOX**"
   ]
  },
  {
   "cell_type": "code",
   "execution_count": null,
   "metadata": {},
   "outputs": [],
   "source": [
    "tracker = sv.ByteTrack()\n",
    "box_annotator = sv.BoundingBoxAnnotator()\n",
    "label_annotator = sv.LabelAnnotator()\n",
    "\n",
    "\n",
    "def callback(frame: np.ndarray, _: int) -> np.ndarray:\n",
    "    results = model(frame)[0]\n",
    "    detections = sv.Detections.from_ultralytics(results)\n",
    "    detections = tracker.update_with_detections(detections)\n",
    "\n",
    "    labels = [\n",
    "        f\"#{tracker_id} {results.names[class_id]}\"\n",
    "        for class_id, tracker_id\n",
    "        in zip(detections.class_id, detections.tracker_id)\n",
    "    ]\n",
    "\n",
    "    annotated_frame = box_annotator.annotate(\n",
    "        frame.copy(), detections=detections)\n",
    "    return label_annotator.annotate(\n",
    "        annotated_frame, detections=detections, labels=labels)\n",
    "\n",
    "\n",
    "output_video_path = os.path.join(\n",
    "    base_folder, \"ExternDisk0_ch4_20240207130000_20240207140000_annotated_3.mp4\")\n",
    "\n",
    "sv.process_video(\n",
    "    source_path=input_video_path,\n",
    "    target_path=output_video_path,\n",
    "    callback=callback\n",
    ")\n",
    "\n",
    "del label_annotator\n",
    "del tracker\n",
    "del box_annotator"
   ]
  }
 ],
 "metadata": {
  "accelerator": "GPU",
  "colab": {
   "gpuType": "T4",
   "provenance": []
  },
  "kernelspec": {
   "display_name": "Python 3",
   "name": "python3"
  },
  "language_info": {
   "codemirror_mode": {
    "name": "ipython",
    "version": 3
   },
   "file_extension": ".py",
   "mimetype": "text/x-python",
   "name": "python",
   "nbconvert_exporter": "python",
   "pygments_lexer": "ipython3",
   "version": "3.10.12"
  }
 },
 "nbformat": 4,
 "nbformat_minor": 0
}
